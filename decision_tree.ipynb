{
 "cells": [
  {
   "cell_type": "code",
   "execution_count": 41,
   "id": "c75ea1a8-0698-4162-9122-93a2fc6dea45",
   "metadata": {},
   "outputs": [],
   "source": [
    "import six\n",
    "import sys\n",
    "sys.modules['sklearn.externals.six'] = six\n",
    "import pydot\n",
    "import pandas as pd"
   ]
  },
  {
   "cell_type": "code",
   "execution_count": 35,
   "id": "702f0186-0595-4d9a-a9d9-27d7f79ad3b5",
   "metadata": {},
   "outputs": [],
   "source": [
    "from id3 import Id3Estimator\n",
    "from id3 import export_graphviz\n",
    "from sklearn.datasets import load_breast_cancer\n",
    "from subprocess import check_call"
   ]
  },
  {
   "cell_type": "code",
   "execution_count": 17,
   "id": "c57acb02-6ebe-477b-8f35-2d1d116ba8e8",
   "metadata": {},
   "outputs": [],
   "source": [
    "np.float = float    \n",
    "np.int = int   #module 'numpy' has no attribute 'int'\n",
    "np.object = object    #module 'numpy' has no attribute 'object'\n",
    "np.bool = bool    #module 'numpy' has no attribute 'bool'"
   ]
  },
  {
   "cell_type": "code",
   "execution_count": 115,
   "id": "a38641a9-4966-4e98-9a8a-27ae262456f3",
   "metadata": {},
   "outputs": [],
   "source": [
    "#read in the raw data\n",
    "raw_df = pd.read_csv(\"raw_data.csv\")"
   ]
  },
  {
   "cell_type": "code",
   "execution_count": 116,
   "id": "4e363139-c426-4da3-8fff-a149a20b5725",
   "metadata": {},
   "outputs": [],
   "source": [
    "#select only relevant attributes\n",
    "df = raw_df[[\"finalRank\", \"circuitName\", \"year\", \"raceRound\", \"ageAtRace\", \"seasonAvgPlace\", \"qualPos\", \"pointsGoingIn\", \\\n",
    "            \"winsGoingIn\", \"recentPlacement\", \"driverCircuitAvgPlace\", \"teamCircuitAvgPlace\", \"positionChange\", \"seasonOvertake\", \\\n",
    "            \"careerOvertake\"]]"
   ]
  },
  {
   "cell_type": "code",
   "execution_count": 117,
   "id": "aa747d1c-6c99-4855-a7b6-2be53647cc28",
   "metadata": {},
   "outputs": [
    {
     "name": "stderr",
     "output_type": "stream",
     "text": [
      "<ipython-input-117-d3d7697406eb>:2: SettingWithCopyWarning: \n",
      "A value is trying to be set on a copy of a slice from a DataFrame.\n",
      "Try using .loc[row_indexer,col_indexer] = value instead\n",
      "\n",
      "See the caveats in the documentation: https://pandas.pydata.org/pandas-docs/stable/user_guide/indexing.html#returning-a-view-versus-a-copy\n",
      "  df['circuitName'] = df['circuitName'].apply(lambda x: ''.join(str(ord(c)) for c in x))\n"
     ]
    }
   ],
   "source": [
    "#encode circuitNames to floats\n",
    "df['circuitName'] = df['circuitName'].apply(lambda x: ''.join(str(ord(c)) for c in x))"
   ]
  },
  {
   "cell_type": "code",
   "execution_count": 118,
   "id": "7889c94b-3d23-4a25-b4fa-66b87dfa221e",
   "metadata": {},
   "outputs": [],
   "source": [
    "#get the target labels\n",
    "df_target = df['finalRank'].values"
   ]
  },
  {
   "cell_type": "code",
   "execution_count": 119,
   "id": "9e6d29b1-cb30-462b-af76-cdcd88d07360",
   "metadata": {},
   "outputs": [],
   "source": [
    "#get the data\n",
    "no_target = df.drop(columns = ['finalRank'])\n",
    "df_data = no_target.to_numpy()"
   ]
  },
  {
   "cell_type": "code",
   "execution_count": 121,
   "id": "2d65a10a-4789-415b-af55-ad3c3b1ed05a",
   "metadata": {},
   "outputs": [],
   "source": [
    "#explicitly convert strings to floats\n",
    "for row in df_data:\n",
    "    row[0] = float(row[0])"
   ]
  },
  {
   "cell_type": "code",
   "execution_count": 122,
   "id": "6f950bc2-a687-4d33-8cf5-428017389ff1",
   "metadata": {},
   "outputs": [
    {
     "name": "stderr",
     "output_type": "stream",
     "text": [
      "/Users/amirdhami/opt/anaconda3/lib/python3.8/site-packages/id3/id3.py:124: RuntimeWarning: overflow encountered in cast\n",
      "  X_tmp[:, i] = X_[:, i]\n"
     ]
    },
    {
     "data": {
      "text/plain": [
       "Id3Estimator(prune=True)"
      ]
     },
     "execution_count": 122,
     "metadata": {},
     "output_type": "execute_result"
    }
   ],
   "source": [
    "#use the id3 algorithm to generate a decision tree given the data\n",
    "id3_estimator = Id3Estimator(prune=True)\n",
    "id3_estimator.fit(df_data, df_target)"
   ]
  },
  {
   "cell_type": "code",
   "execution_count": 113,
   "id": "0970a09b-7c52-4473-8faa-2057a2f2dba9",
   "metadata": {},
   "outputs": [
    {
     "data": {
      "text/plain": [
       "<_io.TextIOWrapper name='f1_tree.dot' mode='w' encoding='utf8'>"
      ]
     },
     "execution_count": 113,
     "metadata": {},
     "output_type": "execute_result"
    }
   ],
   "source": [
    "#generate graph as .dot\n",
    "export_graphviz(id3_estimator.tree_, 'f1_tree.dot', list(no_target))"
   ]
  },
  {
   "cell_type": "code",
   "execution_count": 114,
   "id": "43400649-d4b0-4259-8362-f4436ccd68b5",
   "metadata": {},
   "outputs": [
    {
     "data": {
      "text/plain": [
       "0"
      ]
     },
     "execution_count": 114,
     "metadata": {},
     "output_type": "execute_result"
    }
   ],
   "source": [
    "#convert .dot to .png\n",
    "check_call(['dot','-Tpng','f1_tree.dot','-o','f1_tree.png'])"
   ]
  }
 ],
 "metadata": {
  "kernelspec": {
   "display_name": "Python 3",
   "language": "python",
   "name": "python3"
  },
  "language_info": {
   "codemirror_mode": {
    "name": "ipython",
    "version": 3
   },
   "file_extension": ".py",
   "mimetype": "text/x-python",
   "name": "python",
   "nbconvert_exporter": "python",
   "pygments_lexer": "ipython3",
   "version": "3.8.8"
  }
 },
 "nbformat": 4,
 "nbformat_minor": 5
}
